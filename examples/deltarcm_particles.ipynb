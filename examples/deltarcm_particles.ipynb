{
 "cells": [
  {
   "cell_type": "markdown",
   "metadata": {},
   "source": [
    "### Load packages"
   ]
  },
  {
   "cell_type": "code",
   "execution_count": 1,
   "metadata": {},
   "outputs": [],
   "source": [
    "# make a test case to try the particle class\n",
    "\n",
    "from math import floor, sqrt, pi\n",
    "import numpy as np\n",
    "from random import shuffle\n",
    "import matplotlib\n",
    "from matplotlib import pyplot as plt\n",
    "from scipy import ndimage\n",
    "import sys, os, re, string\n",
    "from netCDF4 import Dataset\n",
    "import time as time_lib\n",
    "from scipy.sparse import lil_matrix, csc_matrix, hstack\n",
    "import logging\n",
    "import time\n",
    "\n",
    "from particlerouting.particle_track import Particle"
   ]
  },
  {
   "cell_type": "markdown",
   "metadata": {},
   "source": [
    "### Load data and define parameters used to do the particle routing"
   ]
  },
  {
   "cell_type": "code",
   "execution_count": 2,
   "metadata": {},
   "outputs": [],
   "source": [
    "# define an empty class\n",
    "class pobj():\n",
    "    pass\n",
    "\n",
    "# create params and then assign the parameters\n",
    "params = pobj()\n",
    "\n",
    "# load some variables from a deltarcm output so stage is varied\n",
    "rcm_output = Dataset('jgrdup_50_pydeltarcm.nc','r')\n",
    "\n",
    "# load stage data\n",
    "rcm_stage = rcm_output.variables['stage'][:]\n",
    "params.stage = rcm_stage.data[-1,:,:]\n",
    "\n",
    "# load depth data\n",
    "rcm_depth = rcm_output.variables['depth'][:]\n",
    "params.depth = rcm_depth.data[-1,:,:]\n",
    "\n",
    "params.seed_xloc = list(range(15,17))\n",
    "params.seed_yloc = list(range(137,140))\n",
    "params.Np_tracer = 50\n",
    "params.dx = 50.\n",
    "params.qx = np.zeros(np.shape(params.depth))\n",
    "params.qy = np.zeros(np.shape(params.depth))\n",
    "params.theta = 1.0\n",
    "params.itmax = 1 # number of iterations/walks per timestep"
   ]
  },
  {
   "cell_type": "markdown",
   "metadata": {},
   "source": [
    "### Route the particles\n",
    "Code for plotting and saving particle locations each iteration is commented out"
   ]
  },
  {
   "cell_type": "code",
   "execution_count": 3,
   "metadata": {},
   "outputs": [
    {
     "name": "stdout",
     "output_type": "stream",
     "text": [
      "minimum depth for wetness not defined - using 0.1\n",
      "parameter gamma not specified - using 0.05\n",
      "Cell Types not specified - using zeros\n"
     ]
    }
   ],
   "source": [
    "# try running it\n",
    "\n",
    "test = Particle(params)\n",
    "\n",
    "# do iterations\n",
    "for i in range(0,50):\n",
    "    if i == 0:\n",
    "        start_inds, end_inds = test.run_iteration()\n",
    "        xinds=[];yinds=[];\n",
    "        for j in range(0,len(end_inds)):\n",
    "            xinds.append(end_inds[j][0])\n",
    "            yinds.append(end_inds[j][1])\n",
    "    else:\n",
    "        beg_ind, end_inds = test.run_iteration(start_xindices=xinds,start_yindices=yinds)\n",
    "        xinds = []; yinds = [];\n",
    "        for j in range(0,len(end_inds)):\n",
    "            xinds.append(end_inds[j][0])\n",
    "            yinds.append(end_inds[j][1]) \n",
    "    \n",
    "    ### Optional plotting/saving of particle locations at each timestep\n",
    "#     plt.figure(figsize=(4,4),dpi=200)\n",
    "#     for k in range(0,len(start_inds)):\n",
    "#         plt.scatter(start_inds[k][1],start_inds[k][0],c='b',s=0.5)\n",
    "#         plt.scatter(end_inds[k][1],end_inds[k][0],c='r',s=0.5)\n",
    "#     plt.imshow(params.stage)\n",
    "#     plt.colorbar()\n",
    "#     plt.savefig('test'+str(i)+'.png')\n",
    "#     plt.close()"
   ]
  },
  {
   "cell_type": "code",
   "execution_count": null,
   "metadata": {},
   "outputs": [],
   "source": []
  }
 ],
 "metadata": {
  "kernelspec": {
   "display_name": "Python [conda env:rcmanuga]",
   "language": "python",
   "name": "conda-env-rcmanuga-py"
  },
  "language_info": {
   "codemirror_mode": {
    "name": "ipython",
    "version": 2
   },
   "file_extension": ".py",
   "mimetype": "text/x-python",
   "name": "python",
   "nbconvert_exporter": "python",
   "pygments_lexer": "ipython2",
   "version": "2.7.15"
  }
 },
 "nbformat": 4,
 "nbformat_minor": 2
}
